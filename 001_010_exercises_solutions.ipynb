{
  "nbformat": 4,
  "nbformat_minor": 0,
  "metadata": {
    "colab": {
      "provenance": [],
      "include_colab_link": true
    },
    "kernelspec": {
      "name": "python3",
      "display_name": "Python 3"
    }
  },
  "cells": [
    {
      "cell_type": "markdown",
      "metadata": {
        "id": "view-in-github",
        "colab_type": "text"
      },
      "source": [
        "<a href=\"https://colab.research.google.com/github/louizaferiel/feriel.colab/blob/main/001_010_exercises_solutions.ipynb\" target=\"_parent\"><img src=\"https://colab.research.google.com/assets/colab-badge.svg\" alt=\"Open In Colab\"/></a>"
      ]
    },
    {
      "cell_type": "markdown",
      "metadata": {
        "id": "WLEgCW5F1hho"
      },
      "source": [
        "## Numpy\n",
        "\n",
        "### Table of contents:\n",
        "* [Import biblioteki](#0)\n",
        "* [Exercise 1](#1)\n",
        "* [Exercise 2](#2)\n",
        "* [Exercise 3](#3)\n",
        "* [Exercise 4](#4)\n",
        "* [Exercise 5](#5)\n",
        "* [Exercise 6](#6)\n",
        "* [Exercise 7](#7)\n",
        "* [Exercise 8](#8)\n",
        "* [Exercise 9](#9)\n",
        "* [Exercise 10](#10)"
      ]
    },
    {
      "cell_type": "markdown",
      "metadata": {
        "id": "zeLOLmTj1kBM"
      },
      "source": [
        "### <a name='0'></a> Import of libraries"
      ]
    },
    {
      "cell_type": "code",
      "metadata": {
        "id": "HXMB7SMe1Wnz",
        "colab": {
          "base_uri": "https://localhost:8080/",
          "height": 35
        },
        "outputId": "605d5fa3-d39f-4e31-d0a1-e88e81270b1b"
      },
      "source": [
        "import numpy as np\n",
        "\n",
        "np.__version__"
      ],
      "execution_count": null,
      "outputs": [
        {
          "output_type": "execute_result",
          "data": {
            "application/vnd.google.colaboratory.intrinsic": {
              "type": "string"
            },
            "text/plain": [
              "'1.18.5'"
            ]
          },
          "metadata": {
            "tags": []
          },
          "execution_count": 2
        }
      ]
    },
    {
      "cell_type": "markdown",
      "metadata": {
        "id": "cyc70pMe1oCg"
      },
      "source": [
        "### <a name='1'></a> Exercise 1\n",
        "Check if all array elements $ A, B, C $ and $ D $ return the logical value _True_.\n",
        "\n",
        "```\n",
        "A = np.array([[3, 2, 1, 4],\n",
        "              [5, 2, 1, 6]])\n",
        "\n",
        "B = np.array([[3, 2, 1, 4],\n",
        "              [5, 2, 0, 6]])\n",
        "\n",
        "C = np.array([[True, False, False],\n",
        "              [True, True, True]])\n",
        "\n",
        "D = np.array([0.1, 0.3])\n",
        "```\n",
        "\n",
        "__Tip:__ Use the function _np.all()_."
      ]
    },
    {
      "cell_type": "code",
      "metadata": {
        "id": "B0IVx0-CpcDW",
        "colab": {
          "base_uri": "https://localhost:8080/",
          "height": 85
        },
        "outputId": "26bcb162-c812-471f-d3c4-cec41e2a32b5"
      },
      "source": [
        "A = np.array([[3, 2, 1, 4],\n",
        "              [5, 2, 1, 6]])\n",
        "\n",
        "B = np.array([[3, 2, 1, 4],\n",
        "              [5, 2, 0, 6]])\n",
        "\n",
        "C = np.array([[True, False, False],\n",
        "              [True, True, True]])\n",
        "\n",
        "D = np.array([0.1, 0.3])\n",
        "\n",
        "for name, array in zip(list('ABCD'), [A, B, C, D]):\n",
        "    print(f'{name}: {np.all(array)}')"
      ],
      "execution_count": null,
      "outputs": [
        {
          "output_type": "stream",
          "text": [
            "A: True\n",
            "B: False\n",
            "C: False\n",
            "D: True\n"
          ],
          "name": "stdout"
        }
      ]
    },
    {
      "cell_type": "markdown",
      "metadata": {
        "id": "J9pY1rtr1sC0"
      },
      "source": [
        "### <a name='2'></a> Exercise 2\n",
        "Check if all array elements $ A, B $ and $ C $ return the logical value _True_ along the axis with index 1.\n",
        "\n",
        "```\n",
        "A = np.array([[3, 2, 1, 4],\n",
        "              [5, 2, 1, 6]])\n",
        "\n",
        "B = np.array([[3, 2, 1, 4],\n",
        "              [5, 2, 0, 6]])\n",
        "\n",
        "C = np.array([[True, False, False],\n",
        "              [True, True, True]])\n",
        "```\n",
        "\n",
        "__Tip:__ Use the function _np.all()_ with the parameter _axis_."
      ]
    },
    {
      "cell_type": "code",
      "metadata": {
        "id": "8Vt03pJyp78D",
        "colab": {
          "base_uri": "https://localhost:8080/",
          "height": 68
        },
        "outputId": "29313785-fac6-4b30-b7c6-921c5582b716"
      },
      "source": [
        "A = np.array([[3, 2, 1, 4],\n",
        "              [5, 2, 1, 6]])\n",
        "\n",
        "B = np.array([[3, 2, 1, 4],\n",
        "              [5, 2, 0, 6]])\n",
        "\n",
        "C = np.array([[True, False, False],\n",
        "              [True, True, True]])\n",
        "\n",
        "for name, array in zip(list('ABC'), [A, B, C]):\n",
        "    print(f'{name}: {np.all(array, axis=1)}')"
      ],
      "execution_count": null,
      "outputs": [
        {
          "output_type": "stream",
          "text": [
            "A: [ True  True]\n",
            "B: [ True False]\n",
            "C: [False  True]\n"
          ],
          "name": "stdout"
        }
      ]
    },
    {
      "cell_type": "markdown",
      "metadata": {
        "id": "XQLYT2m11wVG"
      },
      "source": [
        "### <a name='3'></a> Exercise 3\n",
        "Check if any element of arrays $ A, B, C $ and $ D $ returns the logical value _True_.\n",
        "\n",
        "```\n",
        "A = np.array([[0, 0, 0],\n",
        "              [0, 0, 0]])\n",
        "\n",
        "B = np.array([[0, 0, 0],\n",
        "              [0, 1, 0]])\n",
        "\n",
        "C = np.array([[False, False, False],\n",
        "              [True, False, False]])\n",
        "\n",
        "D = np.array([[0.1, 0.0]])\n",
        "```\n",
        "\n",
        "__Tip:__ Use the _np.any()_ function."
      ]
    },
    {
      "cell_type": "code",
      "metadata": {
        "id": "dQ4cIqS7p9zd",
        "colab": {
          "base_uri": "https://localhost:8080/",
          "height": 85
        },
        "outputId": "13ef653f-40fb-44df-8eaf-100591a583cb"
      },
      "source": [
        "A = np.array([[0, 0, 0],\n",
        "              [0, 0, 0]])\n",
        "\n",
        "B = np.array([[0, 0, 0],\n",
        "              [0, 1, 0]])\n",
        "\n",
        "C = np.array([[False, False, False],\n",
        "              [True, False, False]])\n",
        "\n",
        "D = np.array([[0.1, 0.0]])\n",
        "\n",
        "for name, array in zip(list('ABCD'), [A, B, C, D]):\n",
        "    print(f'{name}: {np.any(array)}')"
      ],
      "execution_count": null,
      "outputs": [
        {
          "output_type": "stream",
          "text": [
            "A: False\n",
            "B: True\n",
            "C: True\n",
            "D: True\n"
          ],
          "name": "stdout"
        }
      ]
    },
    {
      "cell_type": "markdown",
      "metadata": {
        "id": "4xTKSUzg10MK"
      },
      "source": [
        "### <a name='4'></a> Exercise 4\n",
        "Check if any element of arrays $ A, B, C $ and $ D $ returns the logical value _True_ along the axis with index 0.\n",
        "\n",
        "```\n",
        "A = np.array([[0, 0, 0],\n",
        "              [0, 0, 0]])\n",
        "\n",
        "B = np.array([[0, 0, 0],\n",
        "              [0, 1, 0]])\n",
        "\n",
        "C = np.array([[False, False, False],\n",
        "              [True, False, False]])\n",
        "\n",
        "D = np.array([[0.1, 0.0]])\n",
        "```\n",
        "\n",
        "__Tip:__ Use the _np.any()_ function with the parameter _axis_.\n"
      ]
    },
    {
      "cell_type": "code",
      "metadata": {
        "id": "yR-X87M1qKFE",
        "colab": {
          "base_uri": "https://localhost:8080/",
          "height": 85
        },
        "outputId": "70359960-f03e-495e-ae84-ba3528dd57ad"
      },
      "source": [
        "A = np.array([[0, 0, 0],\n",
        "              [0, 0, 0]])\n",
        "\n",
        "B = np.array([[0, 0, 0],\n",
        "              [0, 1, 0]])\n",
        "\n",
        "C = np.array([[False, False, False],\n",
        "              [True, False, False]])\n",
        "\n",
        "D = np.array([[0.1, 0.0]])\n",
        "\n",
        "for name, array in zip(list('ABCD'), [A, B, C, D]):\n",
        "    print(f'{name}: {np.any(array, axis=0)}')"
      ],
      "execution_count": null,
      "outputs": [
        {
          "output_type": "stream",
          "text": [
            "A: [False False False]\n",
            "B: [False  True False]\n",
            "C: [ True False False]\n",
            "D: [ True False]\n"
          ],
          "name": "stdout"
        }
      ]
    },
    {
      "cell_type": "markdown",
      "metadata": {
        "id": "o3HKIKlP15Ro"
      },
      "source": [
        "### <a name='5'></a> Exercise 5\n",
        "Check the array $ A $ for missing data (_np.nan_).\n",
        "\n",
        "```\n",
        "A = np.array([[3, 2, 1, np.nan],\n",
        "              [5, np.nan, 1, 6]])\n",
        "```\n",
        "__Tip:__ Use the _np.isnan()_ function.\n"
      ]
    },
    {
      "cell_type": "code",
      "metadata": {
        "id": "Bf65a1SFqn7L",
        "colab": {
          "base_uri": "https://localhost:8080/",
          "height": 51
        },
        "outputId": "c8b139d3-a522-40d7-93d0-90e9e1d0a8f6"
      },
      "source": [
        "A = np.array([[3, 2, 1, np.nan],\n",
        "              [5, np.nan, 1, 6]])\n",
        "\n",
        "np.isnan(A)"
      ],
      "execution_count": null,
      "outputs": [
        {
          "output_type": "stream",
          "text": [
            "[[False False False  True]\n",
            " [False  True False False]]\n"
          ],
          "name": "stdout"
        }
      ]
    },
    {
      "cell_type": "markdown",
      "metadata": {
        "id": "PunXd_Ey16so"
      },
      "source": [
        "### <a name='6'></a> Exercise 6\n",
        "Check if the following arrays $ A $ and $ B $ are equal in terms of elements (element-wise) with the specified tolerance level. Use the _np.allclose()_ function with default parameters.\n",
        "\n",
        "```\n",
        "A = np.array([0.4, 0.5, 0.3])\n",
        "B = np.array([0.39999999, 0.5000001, 0.3])\n",
        "```"
      ]
    },
    {
      "cell_type": "code",
      "metadata": {
        "id": "GFvNmr9erl1D",
        "colab": {
          "base_uri": "https://localhost:8080/",
          "height": 34
        },
        "outputId": "62d05473-ab08-4bf1-cff5-5b2838a4f711"
      },
      "source": [
        "A = np.array([0.4, 0.5, 0.3])\n",
        "B = np.array([0.39999999, 0.5000001, 0.3])\n",
        "\n",
        "np.allclose(A, B)"
      ],
      "execution_count": null,
      "outputs": [
        {
          "output_type": "execute_result",
          "data": {
            "text/plain": [
              "True"
            ]
          },
          "metadata": {
            "tags": []
          },
          "execution_count": 7
        }
      ]
    },
    {
      "cell_type": "markdown",
      "metadata": {
        "id": "hOhqDRz618Tx"
      },
      "source": [
        "### <a name='7'></a> Exercise 7\n",
        "Check if the following arrays $ A $ and $ B $ are equal in terms of elements (element-wise). Use the comparison operator _==_.\n",
        "\n",
        "```\n",
        "A = np.array([0.4, 0.5, 0.3])\n",
        "B = np.array([0.3999999999, 0.5000000001, 0.3])\n",
        "```"
      ]
    },
    {
      "cell_type": "code",
      "metadata": {
        "id": "gX6r6i6BrwUL",
        "colab": {
          "base_uri": "https://localhost:8080/",
          "height": 34
        },
        "outputId": "9cfc71ef-7c7d-4e53-9041-6ce9d6895bae"
      },
      "source": [
        "A = np.array([0.4, 0.5, 0.3])\n",
        "B = np.array([0.3999999999, 0.5000000001, 0.3])\n",
        "\n",
        "# Solution 1\n",
        "A == B"
      ],
      "execution_count": null,
      "outputs": [
        {
          "output_type": "execute_result",
          "data": {
            "text/plain": [
              "array([False, False,  True])"
            ]
          },
          "metadata": {
            "tags": []
          },
          "execution_count": 8
        }
      ]
    },
    {
      "cell_type": "code",
      "metadata": {
        "id": "XY0SY4jUrywt",
        "colab": {
          "base_uri": "https://localhost:8080/",
          "height": 34
        },
        "outputId": "876e200f-7c9c-4435-c22f-3575fbc45ef5"
      },
      "source": [
        "# Solution 2\n",
        "np.equal(A, B)"
      ],
      "execution_count": null,
      "outputs": [
        {
          "output_type": "execute_result",
          "data": {
            "text/plain": [
              "array([False, False,  True])"
            ]
          },
          "metadata": {
            "tags": []
          },
          "execution_count": 9
        }
      ]
    },
    {
      "cell_type": "markdown",
      "metadata": {
        "id": "TXUd_4631-gw"
      },
      "source": [
        "### <a name='8'></a> Exercise 8\n",
        "\n",
        "Check which elements (element-wise) from the array $ A $ below have higher values than the array $ B $.\n",
        "\n",
        "```\n",
        "A = np.array([0.4, 0.5, 0.3, 0.9])\n",
        "B = np.array([0.38, 0.51, 0.3, 0.91])\n",
        "```"
      ]
    },
    {
      "cell_type": "code",
      "metadata": {
        "id": "KkK9env2sCv8",
        "colab": {
          "base_uri": "https://localhost:8080/",
          "height": 34
        },
        "outputId": "b7917de5-7f06-4d22-aa41-5fe9b1911826"
      },
      "source": [
        "A = np.array([0.4, 0.5, 0.3, 0.9])\n",
        "B = np.array([0.38, 0.51, 0.3, 0.91])\n",
        "\n",
        "# Solution 1\n",
        "A > B"
      ],
      "execution_count": null,
      "outputs": [
        {
          "output_type": "execute_result",
          "data": {
            "text/plain": [
              "array([ True, False, False, False])"
            ]
          },
          "metadata": {
            "tags": []
          },
          "execution_count": 10
        }
      ]
    },
    {
      "cell_type": "code",
      "metadata": {
        "id": "MG0BYnFYsFeG",
        "colab": {
          "base_uri": "https://localhost:8080/",
          "height": 34
        },
        "outputId": "ba675be3-5d95-4090-8dea-eb94341ead81"
      },
      "source": [
        "# Solution 2\n",
        "np.greater(A, B)"
      ],
      "execution_count": null,
      "outputs": [
        {
          "output_type": "execute_result",
          "data": {
            "text/plain": [
              "array([ True, False, False, False])"
            ]
          },
          "metadata": {
            "tags": []
          },
          "execution_count": 11
        }
      ]
    },
    {
      "cell_type": "markdown",
      "metadata": {
        "id": "tgI6xEn-2AQo"
      },
      "source": [
        "### <a name='9'></a> Exercise 9\n",
        "\n",
        "Create an array of numpy dimensions _4x4_ filled with zeros. Set the data type to _int_.\n",
        "\n",
        "__Expected result:__\n",
        "\n",
        "```\n",
        "array([[0, 0, 0, 0],\n",
        "       [0, 0, 0, 0],\n",
        "       [0, 0, 0, 0],\n",
        "       [0, 0, 0, 0]])\n",
        "```\n",
        "__Tip:__ Use the _np.zeros()_ function."
      ]
    },
    {
      "cell_type": "code",
      "metadata": {
        "id": "FwHWvOAWsbYn",
        "colab": {
          "base_uri": "https://localhost:8080/",
          "height": 85
        },
        "outputId": "fedf0d79-9067-44f2-e067-1dcf7a42e1ef"
      },
      "source": [
        "np.zeros(shape=(4, 4), dtype='int')"
      ],
      "execution_count": null,
      "outputs": [
        {
          "output_type": "execute_result",
          "data": {
            "text/plain": [
              "array([[0, 0, 0, 0],\n",
              "       [0, 0, 0, 0],\n",
              "       [0, 0, 0, 0],\n",
              "       [0, 0, 0, 0]])"
            ]
          },
          "metadata": {
            "tags": []
          },
          "execution_count": 12
        }
      ]
    },
    {
      "cell_type": "markdown",
      "metadata": {
        "id": "wxhpf-uq2B1I"
      },
      "source": [
        "### <a name='10'></a> Exercise 10\n",
        "Create an array of numpy dimensions _10x10_ filled with number 255. Set the data type to _float_.\n",
        "\n",
        "__Expected result:__\n",
        "```\n",
        "array([[255., 255., 255., 255., 255., 255., 255., 255., 255., 255.],\n",
        "       [255., 255., 255., 255., 255., 255., 255., 255., 255., 255.],\n",
        "       [255., 255., 255., 255., 255., 255., 255., 255., 255., 255.],\n",
        "       [255., 255., 255., 255., 255., 255., 255., 255., 255., 255.],\n",
        "       [255., 255., 255., 255., 255., 255., 255., 255., 255., 255.],\n",
        "       [255., 255., 255., 255., 255., 255., 255., 255., 255., 255.],\n",
        "       [255., 255., 255., 255., 255., 255., 255., 255., 255., 255.],\n",
        "       [255., 255., 255., 255., 255., 255., 255., 255., 255., 255.],\n",
        "       [255., 255., 255., 255., 255., 255., 255., 255., 255., 255.],\n",
        "       [255., 255., 255., 255., 255., 255., 255., 255., 255., 255.]])\n",
        "```\n",
        "\n",
        "__Tip:__ Use the _np.ones()_ or _np.full()_ functions."
      ]
    },
    {
      "cell_type": "code",
      "metadata": {
        "id": "YFc0KW6URsuc",
        "colab": {
          "base_uri": "https://localhost:8080/",
          "height": 187
        },
        "outputId": "ff23adde-2a60-4f36-a96b-991bb448f6b7"
      },
      "source": [
        "# Solution 1\n",
        "np.ones(shape=(10, 10), dtype='float') * 255"
      ],
      "execution_count": null,
      "outputs": [
        {
          "output_type": "execute_result",
          "data": {
            "text/plain": [
              "array([[255., 255., 255., 255., 255., 255., 255., 255., 255., 255.],\n",
              "       [255., 255., 255., 255., 255., 255., 255., 255., 255., 255.],\n",
              "       [255., 255., 255., 255., 255., 255., 255., 255., 255., 255.],\n",
              "       [255., 255., 255., 255., 255., 255., 255., 255., 255., 255.],\n",
              "       [255., 255., 255., 255., 255., 255., 255., 255., 255., 255.],\n",
              "       [255., 255., 255., 255., 255., 255., 255., 255., 255., 255.],\n",
              "       [255., 255., 255., 255., 255., 255., 255., 255., 255., 255.],\n",
              "       [255., 255., 255., 255., 255., 255., 255., 255., 255., 255.],\n",
              "       [255., 255., 255., 255., 255., 255., 255., 255., 255., 255.],\n",
              "       [255., 255., 255., 255., 255., 255., 255., 255., 255., 255.]])"
            ]
          },
          "metadata": {
            "tags": []
          },
          "execution_count": 13
        }
      ]
    },
    {
      "cell_type": "code",
      "metadata": {
        "id": "yxYyYsHBspk1",
        "colab": {
          "base_uri": "https://localhost:8080/",
          "height": 187
        },
        "outputId": "a3949aab-316f-4320-c02e-b413a20fe736"
      },
      "source": [
        "# Solution 2\n",
        "np.full(shape=(10, 10), fill_value=255, dtype='float')"
      ],
      "execution_count": null,
      "outputs": [
        {
          "output_type": "execute_result",
          "data": {
            "text/plain": [
              "array([[255., 255., 255., 255., 255., 255., 255., 255., 255., 255.],\n",
              "       [255., 255., 255., 255., 255., 255., 255., 255., 255., 255.],\n",
              "       [255., 255., 255., 255., 255., 255., 255., 255., 255., 255.],\n",
              "       [255., 255., 255., 255., 255., 255., 255., 255., 255., 255.],\n",
              "       [255., 255., 255., 255., 255., 255., 255., 255., 255., 255.],\n",
              "       [255., 255., 255., 255., 255., 255., 255., 255., 255., 255.],\n",
              "       [255., 255., 255., 255., 255., 255., 255., 255., 255., 255.],\n",
              "       [255., 255., 255., 255., 255., 255., 255., 255., 255., 255.],\n",
              "       [255., 255., 255., 255., 255., 255., 255., 255., 255., 255.],\n",
              "       [255., 255., 255., 255., 255., 255., 255., 255., 255., 255.]])"
            ]
          },
          "metadata": {
            "tags": []
          },
          "execution_count": 14
        }
      ]
    },
    {
      "cell_type": "code",
      "metadata": {
        "id": "NzbGStmNsr5_"
      },
      "source": [],
      "execution_count": null,
      "outputs": []
    }
  ]
}